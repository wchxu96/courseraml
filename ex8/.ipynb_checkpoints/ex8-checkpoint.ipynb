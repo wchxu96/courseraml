{
 "cells": [
  {
   "cell_type": "code",
   "execution_count": 3,
   "metadata": {
    "collapsed": false,
    "deletable": true,
    "editable": true
   },
   "outputs": [],
   "source": [
    "import scipy.io\n",
    "import numpy as np\n",
    "import plotly.plotly as py\n",
    "import plotly.graph_objs as go\n",
    "import matplotlib.pyplot as plt\n",
    "import pandas as pd"
   ]
  },
  {
   "cell_type": "code",
   "execution_count": 4,
   "metadata": {
    "collapsed": false,
    "deletable": true,
    "editable": true
   },
   "outputs": [
    {
     "name": "stdout",
     "output_type": "stream",
     "text": [
      "(307, 2)\n",
      "(307, 1)\n"
     ]
    }
   ],
   "source": [
    "datafile = './data/ex8data1.mat'\n",
    "data = scipy.io.loadmat(datafile)\n",
    "X = data['X']\n",
    "X_val = data['Xval']\n",
    "y_val = data['yval']\n",
    "print X_val.shape\n",
    "print y_val.shape\n",
    "#print data"
   ]
  },
  {
   "cell_type": "code",
   "execution_count": 5,
   "metadata": {
    "collapsed": false,
    "deletable": true,
    "editable": true
   },
   "outputs": [
    {
     "data": {
      "text/html": [
       "<iframe id=\"igraph\" scrolling=\"no\" style=\"border:none;\" seamless=\"seamless\" src=\"https://plot.ly/~OskaKamisama/396.embed\" height=\"525px\" width=\"100%\"></iframe>"
      ],
      "text/plain": [
       "<plotly.tools.PlotlyDisplay object>"
      ]
     },
     "execution_count": 5,
     "metadata": {},
     "output_type": "execute_result"
    }
   ],
   "source": [
    "scatter_1 = go.Scatter(\n",
    "    x = X[:,0],\n",
    "    y = X[:,1],\n",
    "    mode = 'markers'\n",
    ")\n",
    "data = [scatter_1]\n",
    "py.iplot(data)"
   ]
  },
  {
   "cell_type": "code",
   "execution_count": 6,
   "metadata": {
    "collapsed": true,
    "deletable": true,
    "editable": true
   },
   "outputs": [],
   "source": [
    "def guassian(X,mu,sigma):\n",
    "    m = X.shape[0]\n",
    "    n = X.shape[1]\n",
    "    if sigma.ndim == 1:\n",
    "        sigma = np.diag(sigma)\n",
    "    det = np.linalg.det(sigma)\n",
    "    norm = 1 / (np.power((2 * np.pi),n / 2.) * np.sqrt(det))\n",
    "    exp_term = np.zeros((m,1))\n",
    "    inv = np.linalg.inv(sigma)\n",
    "    for i in xrange(m):\n",
    "        exp_term[i] = np.exp(-0.5 * (X[i] - mu).T.dot(inv).dot(X[i] - mu))\n",
    "    return norm * exp_term   "
   ]
  },
  {
   "cell_type": "code",
   "execution_count": 7,
   "metadata": {
    "collapsed": true,
    "deletable": true,
    "editable": true
   },
   "outputs": [],
   "source": [
    "def estimate(X,use_multi=False):\n",
    "    '''\n",
    "    estimate the parameter mu and sigma while the mu is mean and sigma is variance\n",
    "    of each features(n in total)\n",
    "    if use_multi == True\n",
    "    input: X-> (m,n)\n",
    "    output : mu:(n * 1),sigma:(n * 1)\n",
    "    elif use_multi == False\n",
    "    we use a multi-Gaussian distribution to model it.\n",
    "    input X-> (m,n)\n",
    "    output :mu:(n * 1),cov_mat(n * n)\n",
    "    '''\n",
    "    m = X.shape[0]\n",
    "    mu = np.mean(X,axis=0)\n",
    "    if not use_multi:\n",
    "        sigma = np.std(X,axis=0) ** 2\n",
    "    else:\n",
    "        #cov matrix\n",
    "        sigma = (1. / m) * (X - mu).T.dot((X - mu))\n",
    "    return mu,sigma"
   ]
  },
  {
   "cell_type": "code",
   "execution_count": 8,
   "metadata": {
    "collapsed": false,
    "deletable": true,
    "editable": true
   },
   "outputs": [],
   "source": [
    "#estimate(X)\n",
    "mu,sigma2 = estimate(X,use_multi=True)\n",
    "#print guassian(X,mu,sigma2)"
   ]
  },
  {
   "cell_type": "code",
   "execution_count": 9,
   "metadata": {
    "collapsed": true,
    "deletable": true,
    "editable": true
   },
   "outputs": [],
   "source": [
    "def plot_contour(use_multi=False):\n",
    "    mu,sigma2 = estimate(X,use_multi)\n",
    "    contour_1 = go.Contour(\n",
    "        x = X[:,0],\n",
    "        y = X[:,1],\n",
    "        z = guassian(X,mu,sigma2)\n",
    "    )\n",
    "    data = [scatter_1,contour_1]\n",
    "    return py.iplot(data)"
   ]
  },
  {
   "cell_type": "code",
   "execution_count": 10,
   "metadata": {
    "collapsed": false,
    "deletable": true,
    "editable": true
   },
   "outputs": [
    {
     "data": {
      "text/html": [
       "<iframe id=\"igraph\" scrolling=\"no\" style=\"border:none;\" seamless=\"seamless\" src=\"https://plot.ly/~OskaKamisama/398.embed\" height=\"525px\" width=\"100%\"></iframe>"
      ],
      "text/plain": [
       "<plotly.tools.PlotlyDisplay object>"
      ]
     },
     "execution_count": 10,
     "metadata": {},
     "output_type": "execute_result"
    }
   ],
   "source": [
    "plot_contour(use_multi=True)###怎么这么炫酷..."
   ]
  },
  {
   "cell_type": "markdown",
   "metadata": {
    "deletable": true,
    "editable": true
   },
   "source": [
    "### Selecting the threshold, ε"
   ]
  },
  {
   "cell_type": "code",
   "execution_count": 11,
   "metadata": {
    "collapsed": false,
    "deletable": true,
    "editable": true
   },
   "outputs": [],
   "source": [
    "def f1_score(ylabel,ypred):\n",
    "    #P,R = 0.0 , 0.0\n",
    "    '''\n",
    "    ylabel is the true label of the data\n",
    "    the ypred is the predict label\n",
    "    P means of all the samples I decide to be true what fraction really True\n",
    "    R means of all the samples really True what fraction I can correctly decide it to be true\n",
    "    it's a bit tricky\n",
    "    F1_score = 2 * P * R / (P + R)\n",
    "    And we should think the label be boolean numpy array\n",
    "    In [9]: np.sum([True,True,False,False])\n",
    "    Out[9]: 2\n",
    "    '''\n",
    "    P = np.sum([int(ylabel[x]) for x in xrange(ylabel.shape[0]) if ypred[x]]) / float(np.sum(ypred))\n",
    "    R = np.sum([int(ylabel[x]) for x in xrange(ylabel.shape[0]) if ypred[x]]) / float(np.sum(ylabel))\n",
    "    return P * R * 2. / (P + R) if P + R else 0"
   ]
  },
  {
   "cell_type": "code",
   "execution_count": 12,
   "metadata": {
    "collapsed": false,
    "deletable": true,
    "editable": true
   },
   "outputs": [
    {
     "ename": "IndentationError",
     "evalue": "expected an indented block (<ipython-input-12-e2d90d22d99a>, line 5)",
     "output_type": "error",
     "traceback": [
      "\u001b[0;36m  File \u001b[0;32m\"<ipython-input-12-e2d90d22d99a>\"\u001b[0;36m, line \u001b[0;32m5\u001b[0m\n\u001b[0;31m    \u001b[0m\n\u001b[0m    ^\u001b[0m\n\u001b[0;31mIndentationError\u001b[0m\u001b[0;31m:\u001b[0m expected an indented block\n"
     ]
    }
   ],
   "source": [
    "def selectThreshold(myycv, mypCVs):\n",
    "    nsteps = 1000\n",
    "    epses = np.linspace(np.min(mypCVs),np.max(mypCVs),nsteps)\n",
    "    besteps,bestf1 = 0,0\n",
    "    for eps in epses:\n",
    "        ypred = \n",
    "        thisf1 = "
   ]
  }
 ],
 "metadata": {
  "kernelspec": {
   "display_name": "Python 2",
   "language": "python",
   "name": "python2"
  },
  "language_info": {
   "codemirror_mode": {
    "name": "ipython",
    "version": 2
   },
   "file_extension": ".py",
   "mimetype": "text/x-python",
   "name": "python",
   "nbconvert_exporter": "python",
   "pygments_lexer": "ipython2",
   "version": "2.7.12"
  }
 },
 "nbformat": 4,
 "nbformat_minor": 2
}
