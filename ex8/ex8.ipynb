{
 "cells": [
  {
   "cell_type": "code",
   "execution_count": 2,
   "metadata": {
    "collapsed": false,
    "deletable": true,
    "editable": true
   },
   "outputs": [],
   "source": [
    "import scipy.io\n",
    "import numpy as np\n",
    "import plotly.plotly as py\n",
    "import plotly.graph_objs as go\n",
    "import matplotlib.pyplot as plt\n",
    "import pandas as pd"
   ]
  },
  {
   "cell_type": "code",
   "execution_count": 3,
   "metadata": {
    "collapsed": false,
    "deletable": true,
    "editable": true
   },
   "outputs": [
    {
     "name": "stdout",
     "output_type": "stream",
     "text": [
      "(307, 2)\n",
      "(307, 1)\n"
     ]
    }
   ],
   "source": [
    "datafile = './data/ex8data1.mat'\n",
    "data = scipy.io.loadmat(datafile)\n",
    "X = data['X']\n",
    "X_val = data['Xval']\n",
    "y_val = data['yval']\n",
    "print X_val.shape\n",
    "print y_val.shape\n",
    "#print data"
   ]
  },
  {
   "cell_type": "code",
   "execution_count": 5,
   "metadata": {
    "collapsed": false,
    "deletable": true,
    "editable": true
   },
   "outputs": [
    {
     "data": {
      "text/html": [
       "<iframe id=\"igraph\" scrolling=\"no\" style=\"border:none;\" seamless=\"seamless\" src=\"https://plot.ly/~OskaKamisama/448.embed\" height=\"525px\" width=\"100%\"></iframe>"
      ],
      "text/plain": [
       "<plotly.tools.PlotlyDisplay object>"
      ]
     },
     "execution_count": 5,
     "metadata": {},
     "output_type": "execute_result"
    }
   ],
   "source": [
    "scatter_1 = go.Scatter(\n",
    "    x = X[:,0],\n",
    "    y = X[:,1],\n",
    "    mode = 'markers'\n",
    ")\n",
    "data = [scatter_1]\n",
    "py.iplot(data)"
   ]
  },
  {
   "cell_type": "code",
   "execution_count": 6,
   "metadata": {
    "collapsed": true,
    "deletable": true,
    "editable": true
   },
   "outputs": [],
   "source": [
    "def guassian(X,mu,sigma):\n",
    "    m = X.shape[0]\n",
    "    n = X.shape[1]\n",
    "    if sigma.ndim == 1:\n",
    "        sigma = np.diag(sigma)\n",
    "    det = np.linalg.det(sigma)\n",
    "    norm = 1 / (np.power((2 * np.pi),n / 2.) * np.sqrt(det))\n",
    "    exp_term = np.zeros((m,1))\n",
    "    inv = np.linalg.inv(sigma)\n",
    "    for i in xrange(m):\n",
    "        exp_term[i] = np.exp(-0.5 * (X[i] - mu).T.dot(inv).dot(X[i] - mu))\n",
    "    return norm * exp_term   "
   ]
  },
  {
   "cell_type": "code",
   "execution_count": 7,
   "metadata": {
    "collapsed": true,
    "deletable": true,
    "editable": true
   },
   "outputs": [],
   "source": [
    "def estimate(X,use_multi=False):\n",
    "    '''\n",
    "    estimate the parameter mu and sigma while the mu is mean and sigma is variance\n",
    "    of each features(n in total)\n",
    "    if use_multi == True\n",
    "    input: X-> (m,n)\n",
    "    output : mu:(n * 1),sigma:(n * 1)\n",
    "    elif use_multi == False\n",
    "    we use a multi-Gaussian distribution to model it.\n",
    "    input X-> (m,n)\n",
    "    output :mu:(n * 1),cov_mat(n * n)\n",
    "    '''\n",
    "    m = X.shape[0]\n",
    "    mu = np.mean(X,axis=0)\n",
    "    if not use_multi:\n",
    "        sigma = np.std(X,axis=0) ** 2\n",
    "    else:\n",
    "        #cov matrix\n",
    "        sigma = (1. / m) * (X - mu).T.dot((X - mu))\n",
    "    return mu,sigma"
   ]
  },
  {
   "cell_type": "code",
   "execution_count": 8,
   "metadata": {
    "collapsed": false,
    "deletable": true,
    "editable": true
   },
   "outputs": [],
   "source": [
    "#estimate(X)\n",
    "mu,sigma2 = estimate(X,use_multi=True)\n",
    "#print guassian(X,mu,sigma2)"
   ]
  },
  {
   "cell_type": "code",
   "execution_count": 9,
   "metadata": {
    "collapsed": true,
    "deletable": true,
    "editable": true
   },
   "outputs": [],
   "source": [
    "def plot_contour(use_multi=False):\n",
    "    mu,sigma2 = estimate(X,use_multi)\n",
    "    contour_1 = go.Contour(\n",
    "        x = X[:,0],\n",
    "        y = X[:,1],\n",
    "        z = guassian(X,mu,sigma2)\n",
    "    )\n",
    "    data = [scatter_1,contour_1]\n",
    "    return py.iplot(data)"
   ]
  },
  {
   "cell_type": "code",
   "execution_count": 10,
   "metadata": {
    "collapsed": false,
    "deletable": true,
    "editable": true
   },
   "outputs": [
    {
     "data": {
      "text/html": [
       "<iframe id=\"igraph\" scrolling=\"no\" style=\"border:none;\" seamless=\"seamless\" src=\"https://plot.ly/~OskaKamisama/450.embed\" height=\"525px\" width=\"100%\"></iframe>"
      ],
      "text/plain": [
       "<plotly.tools.PlotlyDisplay object>"
      ]
     },
     "execution_count": 10,
     "metadata": {},
     "output_type": "execute_result"
    }
   ],
   "source": [
    "plot_contour(use_multi=True)###怎么这么炫酷..."
   ]
  },
  {
   "cell_type": "markdown",
   "metadata": {
    "deletable": true,
    "editable": true
   },
   "source": [
    "### Selecting the threshold, ε"
   ]
  },
  {
   "cell_type": "code",
   "execution_count": 11,
   "metadata": {
    "collapsed": false,
    "deletable": true,
    "editable": true
   },
   "outputs": [],
   "source": [
    "def f1_score(ylabel,ypred):\n",
    "    #P,R = 0.0 , 0.0\n",
    "    '''\n",
    "    ylabel is the true label of the data\n",
    "    the ypred is the predict label\n",
    "    P means of all the samples I decide to be true what fraction really True\n",
    "    R means of all the samples really True what fraction I can correctly decide it to be true\n",
    "    it's a bit tricky\n",
    "    F1_score = 2 * P * R / (P + R)\n",
    "    And we should think the label be boolean numpy array\n",
    "    In [9]: np.sum([True,True,False,False])\n",
    "    Out[9]: 2\n",
    "    '''\n",
    "    P,R = 0,0\n",
    "    if float(np.sum(ypred)):\n",
    "        #P = np.sum([int(ylabel[x]) for x in xrange(ylabel.shape[0]) if ylabel[x]]) / float(np.sum(ypred))\n",
    "        P = np.sum([int(ylabel[x]) for x in xrange(ypred.shape[0]) \\\n",
    "                    if ypred[x]]) / float(np.sum(ypred))\n",
    "    #print float(np.sum(ypred))\n",
    "    #print ypred.shape[0]\n",
    "    #print P\n",
    "    #print np.sum([int(ylabel[x]) for x in xrange(ylabel.shape[0]) if ypred[x]])\n",
    "    if float(np.sum(ylabel)):\n",
    "        R = np.sum([int(ypred[x]) for x in xrange(ylabel.shape[0]) \\\n",
    "                    if ylabel[x]]) / float(np.sum(ylabel))\n",
    "    #print R\n",
    "    #print 2*P*R/(P+R)  , P, R\n",
    "    #print P + R\n",
    "    #print P * R * 2.\n",
    "\n",
    "    return 2. * P * R / (P + R) if (P + R) else 0"
   ]
  },
  {
   "cell_type": "code",
   "execution_count": 12,
   "metadata": {
    "collapsed": false,
    "deletable": true,
    "editable": true
   },
   "outputs": [
    {
     "data": {
      "text/plain": [
       "0.66666666666666663"
      ]
     },
     "execution_count": 12,
     "metadata": {},
     "output_type": "execute_result"
    }
   ],
   "source": [
    "f1_score(np.array([False,False,True,False,True]),np.array([True,True,True,False,True]))"
   ]
  },
  {
   "cell_type": "code",
   "execution_count": 13,
   "metadata": {
    "collapsed": false,
    "deletable": true,
    "editable": true
   },
   "outputs": [],
   "source": [
    "def selectThreshold(myycv, mypCVs):\n",
    "    '''\n",
    "    mypCVs is a list of all probilities calculated by our guassian\n",
    "    myycv is the real result\n",
    "    '''\n",
    "    nsteps = 1000\n",
    "    epses = np.linspace(np.min(mypCVs),np.max(mypCVs),nsteps)\n",
    "    #print epses\n",
    "    besteps,bestf1 = 0,0\n",
    "    truevec = (myycv == 1).flatten()\n",
    "    #print truevec\n",
    "    for eps in epses:\n",
    "        ypred = mypCVs < eps\n",
    "        #print ypred\n",
    "        this_f1 = f1_score(truevec,ypred)\n",
    "        #print this_f1\n",
    "        #print this_f1\n",
    "        if this_f1 > bestf1:\n",
    "            bestf1 = this_f1\n",
    "            besteps = eps\n",
    "    print \"Best F1 is %f, best eps is %0.4g.\"%(bestf1,besteps)\n",
    "    return bestf1,besteps"
   ]
  },
  {
   "cell_type": "code",
   "execution_count": 14,
   "metadata": {
    "collapsed": false,
    "deletable": true,
    "editable": true
   },
   "outputs": [
    {
     "name": "stdout",
     "output_type": "stream",
     "text": [
      "Best F1 is 0.875000, best eps is 9.075e-05.\n"
     ]
    }
   ],
   "source": [
    "pcvs = guassian(X_val,mu,sigma2)\n",
    "#print pcvs\n",
    "bestf1,besteps = selectThreshold(y_val,pcvs)\n",
    "#print y_val"
   ]
  },
  {
   "cell_type": "markdown",
   "metadata": {
    "deletable": true,
    "editable": true
   },
   "source": [
    "#### 1.4 High dimensional dataset"
   ]
  },
  {
   "cell_type": "code",
   "execution_count": 15,
   "metadata": {
    "collapsed": false,
    "deletable": true,
    "editable": true
   },
   "outputs": [
    {
     "name": "stdout",
     "output_type": "stream",
     "text": [
      "(1000, 11)\n"
     ]
    }
   ],
   "source": [
    "datafile = \"./data/ex8data2.mat\"\n",
    "data_2 = scipy.io.loadmat(datafile)\n",
    "X_2 = data_2['X']\n",
    "X_val_2 = data_2['Xval']\n",
    "y_val_2 = data_2['yval']\n",
    "print X_2.shape"
   ]
  },
  {
   "cell_type": "code",
   "execution_count": 16,
   "metadata": {
    "collapsed": true,
    "deletable": true,
    "editable": true
   },
   "outputs": [],
   "source": [
    "mu_2,sigma2_2 = estimate(X_2,use_multi=False)"
   ]
  },
  {
   "cell_type": "code",
   "execution_count": 17,
   "metadata": {
    "collapsed": false,
    "deletable": true,
    "editable": true
   },
   "outputs": [
    {
     "name": "stdout",
     "output_type": "stream",
     "text": [
      "(100, 1)\n",
      "(100, 1)\n"
     ]
    }
   ],
   "source": [
    "ypred_2 = guassian(X_val_2,mu_2,sigma2_2)\n",
    "#ypred_2\n",
    "print ypred_2.shape\n",
    "print y_val_2.shape"
   ]
  },
  {
   "cell_type": "code",
   "execution_count": 18,
   "metadata": {
    "collapsed": false,
    "deletable": true,
    "editable": true
   },
   "outputs": [
    {
     "name": "stdout",
     "output_type": "stream",
     "text": [
      "Best F1 is 0.615385, best eps is 1.379e-18.\n"
     ]
    }
   ],
   "source": [
    "bestf1_2,besteps_2 = selectThreshold(y_val_2,ypred_2)"
   ]
  },
  {
   "cell_type": "code",
   "execution_count": 19,
   "metadata": {
    "collapsed": false,
    "deletable": true,
    "editable": true
   },
   "outputs": [
    {
     "name": "stdout",
     "output_type": "stream",
     "text": [
      "117\n"
     ]
    }
   ],
   "source": [
    "ypred_train = guassian(X_2,mu_2,sigma2_2)\n",
    "#print ypred_train\n",
    "#print ypred_train < besteps_2\n",
    "ano_num = np.sum(ypred_train < besteps_2)\n",
    "print ano_num"
   ]
  },
  {
   "cell_type": "markdown",
   "metadata": {
    "deletable": true,
    "editable": true
   },
   "source": [
    "### recommonded system"
   ]
  },
  {
   "cell_type": "code",
   "execution_count": 20,
   "metadata": {
    "collapsed": false,
    "deletable": true,
    "editable": true
   },
   "outputs": [
    {
     "name": "stdout",
     "output_type": "stream",
     "text": [
      "(1682, 943)\n",
      "(1682, 943)\n",
      "[[5 4 0 0 4]\n",
      " [3 0 0 0 3]\n",
      " [4 0 0 0 0]\n",
      " [3 0 0 0 0]\n",
      " [3 0 0 0 0]]\n",
      "[[1 1 0 0 1]\n",
      " [1 0 0 0 1]\n",
      " [1 0 0 0 0]\n",
      " [1 0 0 0 0]\n",
      " [1 0 0 0 0]]\n"
     ]
    }
   ],
   "source": [
    "datafile_3 = './data/ex8_movies.mat'\n",
    "movie_data = scipy.io.loadmat(datafile_3)\n",
    "#print movie_data\n",
    "Y = movie_data['Y']\n",
    "R = movie_data['R']\n",
    "print Y.shape\n",
    "print R.shape\n",
    "print Y[:5,:5]\n",
    "print R[:5,:5]"
   ]
  },
  {
   "cell_type": "code",
   "execution_count": 21,
   "metadata": {
    "collapsed": false,
    "deletable": true,
    "editable": true
   },
   "outputs": [
    {
     "name": "stdout",
     "output_type": "stream",
     "text": [
      "(1682, 10)\n",
      "(943, 10)\n",
      "943 1682 10\n"
     ]
    }
   ],
   "source": [
    "data_file_4 = './data/ex8_movieParams.mat'\n",
    "movie_param = scipy.io.loadmat(data_file_4)\n",
    "X = movie_param['X']\n",
    "theta = movie_param['Theta']\n",
    "print X.shape\n",
    "print theta.shape\n",
    "nu = int(movie_param['num_users'])\n",
    "nm = int(movie_param['num_movies'])\n",
    "nf = int(movie_param['num_features'])\n",
    "print nu,nm,nf"
   ]
  },
  {
   "cell_type": "code",
   "execution_count": 22,
   "metadata": {
    "collapsed": false,
    "deletable": true,
    "editable": true
   },
   "outputs": [],
   "source": [
    "def cfcost(Y,R,X,theta,mylambda = 0.):\n",
    "    m = Y.shape[0]\n",
    "    u = Y.shape[1]\n",
    "    #X = np.zeros((u,dim))\n",
    "    #theta = np.zeros((m,dim))\n",
    "    J = np.sum(1. / 2 * R * np.square((X.dot(theta.T) - Y)))\n",
    "    norm = mylambda / 2. * (np.linalg.norm(X) ** 2 + np.linalg.norm(theta) ** 2)\n",
    "    cost = J + norm\n",
    "    return cost"
   ]
  },
  {
   "cell_type": "code",
   "execution_count": 23,
   "metadata": {
    "collapsed": false,
    "deletable": true,
    "editable": true
   },
   "outputs": [
    {
     "data": {
      "text/plain": [
       "27918.64012454421"
      ]
     },
     "execution_count": 23,
     "metadata": {},
     "output_type": "execute_result"
    }
   ],
   "source": [
    "cfcost(Y,R,X,theta)"
   ]
  },
  {
   "cell_type": "code",
   "execution_count": 24,
   "metadata": {
    "collapsed": false,
    "deletable": true,
    "editable": true
   },
   "outputs": [],
   "source": [
    "def gradient(Y,R,X,theta,mylambda = 0.):\n",
    "    term1 = (R * X.dot(theta.T) - Y)\n",
    "    gradx = term1.dot(theta) + 1. / 2 * mylambda * np.linalg.norm(X) ** 2\n",
    "    gradtheta = term1.T.dot(X) + 1. / 2 * mylambda * np.linalg.norm(theta) ** 2\n",
    "    return np.concatenate((gradx.flatten(),gradtheta.flatten()))"
   ]
  },
  {
   "cell_type": "code",
   "execution_count": 25,
   "metadata": {
    "collapsed": false,
    "deletable": true,
    "editable": true
   },
   "outputs": [
    {
     "data": {
      "text/plain": [
       "(26250,)"
      ]
     },
     "execution_count": 25,
     "metadata": {},
     "output_type": "execute_result"
    }
   ],
   "source": [
    "gradient(Y,R,X,theta).shape"
   ]
  },
  {
   "cell_type": "code",
   "execution_count": 26,
   "metadata": {
    "collapsed": false,
    "deletable": true,
    "editable": true
   },
   "outputs": [],
   "source": [
    "# So, this file has the list of movies and their respective index in the Y vector\n",
    "# Let's make a list of strings to reference later\n",
    "movies = []\n",
    "with open('data/movie_ids.txt') as f:\n",
    "    for line in f:\n",
    "        movies.append(' '.join(line.strip('\\n').split(' ')[1:]))\n",
    "\n",
    "# Rather than rate some movies myself, I'll use what was built-in to the homework\n",
    "# (just so I can check my solutions)\n",
    "my_ratings = np.zeros((1682,1))\n",
    "my_ratings[0]   = 4\n",
    "my_ratings[97]  = 2\n",
    "my_ratings[6]   = 3\n",
    "my_ratings[11]  = 5\n",
    "my_ratings[53]  = 4\n",
    "my_ratings[63]  = 5\n",
    "my_ratings[65]  = 3\n",
    "my_ratings[68]  = 5\n",
    "my_ratings[182] = 4\n",
    "my_ratings[225] = 5\n",
    "my_ratings[354] = 5"
   ]
  },
  {
   "cell_type": "code",
   "execution_count": null,
   "metadata": {
    "collapsed": true
   },
   "outputs": [],
   "source": []
  }
 ],
 "metadata": {
  "kernelspec": {
   "display_name": "Python 2",
   "language": "python",
   "name": "python2"
  },
  "language_info": {
   "codemirror_mode": {
    "name": "ipython",
    "version": 2
   },
   "file_extension": ".py",
   "mimetype": "text/x-python",
   "name": "python",
   "nbconvert_exporter": "python",
   "pygments_lexer": "ipython2",
   "version": "2.7.12"
  }
 },
 "nbformat": 4,
 "nbformat_minor": 2
}
