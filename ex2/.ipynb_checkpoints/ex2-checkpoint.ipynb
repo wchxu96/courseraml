{
 "cells": [
  {
   "cell_type": "code",
   "execution_count": 1,
   "metadata": {
    "collapsed": true,
    "deletable": true,
    "editable": true
   },
   "outputs": [],
   "source": [
    "import numpy as np\n",
    "import pandas as pd\n",
    "import matplotlib.pyplot as plt\n",
    "import plotly.plotly as py\n",
    "import plotly.graph_objs as go"
   ]
  },
  {
   "cell_type": "code",
   "execution_count": 2,
   "metadata": {
    "collapsed": false,
    "deletable": true,
    "editable": true
   },
   "outputs": [
    {
     "data": {
      "text/html": [
       "<div>\n",
       "<table border=\"1\" class=\"dataframe\">\n",
       "  <thead>\n",
       "    <tr style=\"text-align: right;\">\n",
       "      <th></th>\n",
       "      <th>bias</th>\n",
       "      <th>exam1</th>\n",
       "      <th>exam2</th>\n",
       "      <th>result</th>\n",
       "    </tr>\n",
       "  </thead>\n",
       "  <tbody>\n",
       "    <tr>\n",
       "      <th>0</th>\n",
       "      <td>1</td>\n",
       "      <td>34.623660</td>\n",
       "      <td>78.024693</td>\n",
       "      <td>0</td>\n",
       "    </tr>\n",
       "    <tr>\n",
       "      <th>1</th>\n",
       "      <td>1</td>\n",
       "      <td>30.286711</td>\n",
       "      <td>43.894998</td>\n",
       "      <td>0</td>\n",
       "    </tr>\n",
       "    <tr>\n",
       "      <th>2</th>\n",
       "      <td>1</td>\n",
       "      <td>35.847409</td>\n",
       "      <td>72.902198</td>\n",
       "      <td>0</td>\n",
       "    </tr>\n",
       "    <tr>\n",
       "      <th>3</th>\n",
       "      <td>1</td>\n",
       "      <td>60.182599</td>\n",
       "      <td>86.308552</td>\n",
       "      <td>1</td>\n",
       "    </tr>\n",
       "    <tr>\n",
       "      <th>4</th>\n",
       "      <td>1</td>\n",
       "      <td>79.032736</td>\n",
       "      <td>75.344376</td>\n",
       "      <td>1</td>\n",
       "    </tr>\n",
       "  </tbody>\n",
       "</table>\n",
       "</div>"
      ],
      "text/plain": [
       "   bias      exam1      exam2  result\n",
       "0     1  34.623660  78.024693       0\n",
       "1     1  30.286711  43.894998       0\n",
       "2     1  35.847409  72.902198       0\n",
       "3     1  60.182599  86.308552       1\n",
       "4     1  79.032736  75.344376       1"
      ]
     },
     "execution_count": 2,
     "metadata": {},
     "output_type": "execute_result"
    }
   ],
   "source": [
    "columns = ['exam1','exam2','result']\n",
    "df = pd.read_csv('./data/ex2data1.txt',names=columns)\n",
    "df.insert(0,\"bias\",1)\n",
    "df.head()"
   ]
  },
  {
   "cell_type": "code",
   "execution_count": 3,
   "metadata": {
    "collapsed": false,
    "deletable": true,
    "editable": true
   },
   "outputs": [
    {
     "name": "stdout",
     "output_type": "stream",
     "text": [
      "<class 'pandas.core.frame.DataFrame'>\n",
      "(100, 3)\n",
      "(100, 1)\n"
     ]
    },
    {
     "data": {
      "text/plain": [
       "60.182599386209752"
      ]
     },
     "execution_count": 3,
     "metadata": {},
     "output_type": "execute_result"
    }
   ],
   "source": [
    "X = df[[0,1,2]]\n",
    "print type(X)\n",
    "print X.shape\n",
    "y = df[[-1]]\n",
    "print y.shape\n",
    "X_exam1 = X.exam1\n",
    "X_exam2 = X.exam2\n",
    "X_exam2.head()\n",
    "pos = [df.loc[i] for i in range(df.shape[0]) if df.loc[i].result == 1]\n",
    "neg = [df.loc[i] for i in range(df.shape[0]) if df.loc[i].result == 0]\n",
    "pos[0][1]"
   ]
  },
  {
   "cell_type": "code",
   "execution_count": 5,
   "metadata": {
    "collapsed": false,
    "deletable": true,
    "editable": true
   },
   "outputs": [
    {
     "data": {
      "text/html": [
       "<iframe id=\"igraph\" scrolling=\"no\" style=\"border:none;\" seamless=\"seamless\" src=\"https://plot.ly/~OskaKamisama/116.embed\" height=\"525px\" width=\"100%\"></iframe>"
      ],
      "text/plain": [
       "<plotly.tools.PlotlyDisplay object>"
      ]
     },
     "execution_count": 5,
     "metadata": {},
     "output_type": "execute_result"
    }
   ],
   "source": [
    "trace1 = go.Scatter(\n",
    "    x = map(lambda x:x[1],pos),\n",
    "    y = map(lambda x:x[2],pos),\n",
    "    mode = \"markers\",\n",
    "    marker = dict(symbol=\"317\",size=10),\n",
    "    line = dict(color=\"green\"),\n",
    "    name = \"admitted\"\n",
    ")\n",
    "\n",
    "trace2 = go.Scatter(\n",
    "    x = map(lambda x:x[0],neg),\n",
    "    y = map(lambda x:x[1],neg),\n",
    "    mode = \"markers\",\n",
    "    marker = dict(size=10),\n",
    "    line = dict(color=\"red\"),\n",
    "    name = \"not admitted\"\n",
    ")\n",
    "data = [trace1,trace2]\n",
    "py.iplot(data)"
   ]
  },
  {
   "cell_type": "code",
   "execution_count": 4,
   "metadata": {
    "collapsed": true,
    "deletable": true,
    "editable": true
   },
   "outputs": [],
   "source": [
    "from scipy.special import expit\n",
    "def sigmoid(X):\n",
    "    return 1 / (1 + np.exp(-X))"
   ]
  },
  {
   "cell_type": "code",
   "execution_count": null,
   "metadata": {
    "collapsed": true,
    "deletable": true,
    "editable": true
   },
   "outputs": [],
   "source": [
    "#def likehood(X,y,inittheta=np.array([0,0]).reshape(2,1)):\n",
    "    \n",
    "    "
   ]
  },
  {
   "cell_type": "code",
   "execution_count": 5,
   "metadata": {
    "collapsed": false,
    "deletable": true,
    "editable": true
   },
   "outputs": [
    {
     "data": {
      "text/html": [
       "<iframe id=\"igraph\" scrolling=\"no\" style=\"border:none;\" seamless=\"seamless\" src=\"https://plot.ly/~OskaKamisama/148.embed\" height=\"525px\" width=\"100%\"></iframe>"
      ],
      "text/plain": [
       "<plotly.tools.PlotlyDisplay object>"
      ]
     },
     "execution_count": 5,
     "metadata": {},
     "output_type": "execute_result"
    }
   ],
   "source": [
    "trace2 = go.Scatter(\n",
    "    x = np.linspace(-5,5,100),\n",
    "    y = map(expit,np.linspace(-5,5,100)),\n",
    "    mode = \"lines and markers\",\n",
    "    line = dict(color=\"yellow\",\n",
    "               shape=\"spline\")\n",
    ")\n",
    "\n",
    "layout2 = go.Layout(\n",
    "    title=\"sigmoid function\",\n",
    "    xaxis = dict(title=\"X\"),\n",
    "    yaxis = dict(title=\"sigmoid(X)\")\n",
    ")\n",
    "\n",
    "fig = go.Figure(data=[trace2],layout=layout2)\n",
    "py.iplot(fig)"
   ]
  },
  {
   "cell_type": "code",
   "execution_count": 6,
   "metadata": {
    "collapsed": false,
    "deletable": true,
    "editable": true
   },
   "outputs": [],
   "source": [
    "def h(theta,X):\n",
    "    return expit(np.dot(X,theta))\n",
    "\n",
    "def cost(theta,mylambda,X,y):\n",
    "    part1 = np.dot(y.T,np.log(h(theta,X)))\n",
    "    part2 = np.dot((1-y).T,np.log(1-h(theta,X)))\n",
    "    #print part1.shape\n",
    "    #print part2.shape\n",
    "    regpart = (mylambda/2) * np.dot(theta[1:].T,theta[1:])\n",
    "    return float((-1./(X.shape[0])) * (part1 + part2 + regpart))"
   ]
  },
  {
   "cell_type": "code",
   "execution_count": 7,
   "metadata": {
    "collapsed": false,
    "deletable": true,
    "editable": true
   },
   "outputs": [
    {
     "data": {
      "text/plain": [
       "0.6931471805599453"
      ]
     },
     "execution_count": 7,
     "metadata": {},
     "output_type": "execute_result"
    }
   ],
   "source": [
    "cost(np.zeros((3,1)),0.,X.as_matrix(),y.as_matrix())"
   ]
  },
  {
   "cell_type": "code",
   "execution_count": 8,
   "metadata": {
    "collapsed": false,
    "deletable": true,
    "editable": true
   },
   "outputs": [],
   "source": [
    "from scipy.optimize import fmin\n",
    "\n",
    "def optimizecost(theta,X,y,mylambda):\n",
    "    res = fmin(func=cost,x0=theta,args=(mylambda,X,y),maxiter=400,full_output=True)\n",
    "    return res[0],res[1]"
   ]
  },
  {
   "cell_type": "code",
   "execution_count": 9,
   "metadata": {
    "collapsed": false,
    "deletable": true,
    "editable": true
   },
   "outputs": [
    {
     "name": "stdout",
     "output_type": "stream",
     "text": [
      "Optimization terminated successfully.\n",
      "         Current function value: 0.203498\n",
      "         Iterations: 157\n",
      "         Function evaluations: 287\n"
     ]
    }
   ],
   "source": [
    "xopt,yopt = optimizecost(np.zeros((3,1)),X.as_matrix(),y.as_matrix(),0.0)"
   ]
  },
  {
   "cell_type": "code",
   "execution_count": 144,
   "metadata": {
    "collapsed": false,
    "deletable": true,
    "editable": true
   },
   "outputs": [
    {
     "name": "stdout",
     "output_type": "stream",
     "text": [
      "[-25.16130062   0.20623142   0.20147143]\n",
      "0.20349770159\n"
     ]
    }
   ],
   "source": [
    "print xopt\n",
    "print yopt"
   ]
  },
  {
   "cell_type": "code",
   "execution_count": 179,
   "metadata": {
    "collapsed": false,
    "deletable": true,
    "editable": true
   },
   "outputs": [
    {
     "data": {
      "text/plain": [
       "numpy.ndarray"
      ]
     },
     "execution_count": 179,
     "metadata": {},
     "output_type": "execute_result"
    }
   ],
   "source": [
    "type(X.ix[:,[1,2]].as_matrix())\n",
    "#print X.ix[:,1].as_matrix()\n",
    "#print np.min(X.ix[:,1].as_matrix())"
   ]
  },
  {
   "cell_type": "code",
   "execution_count": 148,
   "metadata": {
    "collapsed": false,
    "deletable": true,
    "editable": true,
    "scrolled": true
   },
   "outputs": [
    {
     "data": {
      "text/html": [
       "<iframe id=\"igraph\" scrolling=\"no\" style=\"border:none;\" seamless=\"seamless\" src=\"https://plot.ly/~OskaKamisama/138.embed\" height=\"525px\" width=\"100%\"></iframe>"
      ],
      "text/plain": [
       "<plotly.tools.PlotlyDisplay object>"
      ]
     },
     "execution_count": 148,
     "metadata": {},
     "output_type": "execute_result"
    }
   ],
   "source": [
    "trace3 = go.Scatter(\n",
    "    x = map(lambda x:x[1],pos),\n",
    "    y = map(lambda x:x[2],pos),\n",
    "    mode = \"markers\",\n",
    "    marker = dict(symbol=\"317\",size=10),\n",
    "    line = dict(color=\"green\"),\n",
    "    name = \"admitted\"\n",
    ")\n",
    "\n",
    "trace4 = go.Scatter(\n",
    "    x = map(lambda x:x[1],neg),\n",
    "    y = map(lambda x:x[2],neg),\n",
    "    mode = \"markers\",\n",
    "    marker = dict(size=10),\n",
    "    line = dict(color=\"red\"),\n",
    "    name = \"not admitted\"\n",
    ")\n",
    "\n",
    "trace5 = go.Scatter(\n",
    "    x = np.array([np.min(X.ix[:,1].as_matrix()), np.max(X.ix[:,1].as_matrix())]),\n",
    "    y = (-1.0 / xopt[2]) * (xopt[0] + xopt[1] * np.array([np.min(X.ix[:,1].as_matrix()), np.max(X.ix[:,1].as_matrix())]) ),\n",
    "    mode = \"lines+markers\",\n",
    "    line = dict(color=\"yellow\")\n",
    ")\n",
    "data = [trace3,trace4,trace5]\n",
    "py.iplot(data)"
   ]
  },
  {
   "cell_type": "code",
   "execution_count": 150,
   "metadata": {
    "collapsed": false,
    "deletable": true,
    "editable": true
   },
   "outputs": [
    {
     "name": "stdout",
     "output_type": "stream",
     "text": [
      "0.776291590411\n"
     ]
    }
   ],
   "source": [
    "print h(xopt,np.array([1, 45.,85.]))"
   ]
  },
  {
   "cell_type": "markdown",
   "metadata": {
    "deletable": true,
    "editable": true
   },
   "source": [
    "### Regularized Logistic regression"
   ]
  },
  {
   "cell_type": "code",
   "execution_count": 10,
   "metadata": {
    "collapsed": false,
    "deletable": true,
    "editable": true
   },
   "outputs": [],
   "source": [
    "columns_2 = [\"test_1\",\"test_2\",\"result\"]\n",
    "df_2 = pd.read_csv('data/ex2data2.txt',names = columns_2)\n",
    "df_2.insert(0,\"bias\",1)\n",
    "df_2.head()\n",
    "X_2 = df_2.ix[:,[0,1,2]].as_matrix()\n",
    "y_2 = df_2.ix[:,[-1]].as_matrix()\n",
    "#f_2\n",
    "#print y_2"
   ]
  },
  {
   "cell_type": "code",
   "execution_count": null,
   "metadata": {
    "collapsed": true,
    "deletable": true,
    "editable": true
   },
   "outputs": [],
   "source": []
  },
  {
   "cell_type": "code",
   "execution_count": 11,
   "metadata": {
    "collapsed": false,
    "deletable": true,
    "editable": true
   },
   "outputs": [
    {
     "name": "stdout",
     "output_type": "stream",
     "text": [
      "58\n",
      "60\n",
      "bias      1.000000\n",
      "test_1    0.051267\n",
      "test_2    0.699560\n",
      "result    1.000000\n",
      "Name: 0, dtype: float64\n"
     ]
    }
   ],
   "source": [
    "pos_2 = [df_2.loc[i] for i in range(df_2.shape[0]) if df_2.loc[i].result == 1]\n",
    "neg_2 = [df_2.loc[i] for i in range(df_2.shape[0]) if df_2.loc[i].result == 0]\n",
    "print len(pos_2)\n",
    "print len(neg_2)\n",
    "print (pos_2[0])"
   ]
  },
  {
   "cell_type": "code",
   "execution_count": 57,
   "metadata": {
    "collapsed": false,
    "deletable": true,
    "editable": true
   },
   "outputs": [
    {
     "data": {
      "text/html": [
       "<iframe id=\"igraph\" scrolling=\"no\" style=\"border:none;\" seamless=\"seamless\" src=\"https://plot.ly/~OskaKamisama/160.embed\" height=\"525px\" width=\"100%\"></iframe>"
      ],
      "text/plain": [
       "<plotly.tools.PlotlyDisplay object>"
      ]
     },
     "execution_count": 57,
     "metadata": {},
     "output_type": "execute_result"
    }
   ],
   "source": [
    "trace_7 = go.Scatter(\n",
    "    x = [pos_2[i].test_1 for i in range(len(pos_2))],\n",
    "    y = [pos_2[i].test_2 for i in range(len(pos_2))],\n",
    "    mode = \"markers\",\n",
    "    marker = dict(symbol=\"triangle-left\"),\n",
    "    line = dict(color = \"green\"),\n",
    "    name = \"accept\"\n",
    ")\n",
    "\n",
    "trace_8 = go.Scatter(\n",
    "    x = [neg_2[i].test_1 for i in range(len(neg_2))],\n",
    "    y = [neg_2[i].test_2 for i in range(len(neg_2))],\n",
    "    mode = \"markers\",\n",
    "    line = dict(color = \"red\"),\n",
    "    name = \"reject\"\n",
    ")\n",
    "data_2 = [trace_7,trace_8]\n",
    "layout_7 = go.Layout(\n",
    "    title = \"regualrized logistic regression\",\n",
    "    xaxis = dict(title=\"test1\"),\n",
    "    yaxis = dict(title=\"test2\")\n",
    ")\n",
    "figure = go.Figure(data=data_2,layout=layout_7)\n",
    "py.iplot(figure)"
   ]
  },
  {
   "cell_type": "code",
   "execution_count": 18,
   "metadata": {
    "collapsed": false,
    "deletable": true,
    "editable": true
   },
   "outputs": [
    {
     "data": {
      "text/plain": [
       "0.6931471805599454"
      ]
     },
     "execution_count": 18,
     "metadata": {},
     "output_type": "execute_result"
    }
   ],
   "source": [
    "cost(np.zeros((3,1)),0.,X_2,y_2)"
   ]
  },
  {
   "cell_type": "markdown",
   "metadata": {
    "collapsed": true,
    "deletable": true,
    "editable": true
   },
   "source": [
    "### 十分重要的升维"
   ]
  },
  {
   "cell_type": "code",
   "execution_count": 31,
   "metadata": {
    "collapsed": true,
    "deletable": true,
    "editable": true
   },
   "outputs": [],
   "source": [
    "def mapfeature(x1col,x2col):\n",
    "    degrees = 6\n",
    "    out = np.ones((x1col.shape[0],1))\n",
    "    for i in range(1,degrees+1):\n",
    "        for j in range(0,i+1):\n",
    "            term1 = x1col ** (i-j)\n",
    "            term2 = x2col ** j\n",
    "            term = (term1 * term2).reshape(x1col.shape[0],1)\n",
    "            out = np.hstack((out,term))\n",
    "    return out"
   ]
  },
  {
   "cell_type": "code",
   "execution_count": 60,
   "metadata": {
    "collapsed": false
   },
   "outputs": [
    {
     "data": {
      "text/plain": [
       "(1, 28)"
      ]
     },
     "execution_count": 60,
     "metadata": {},
     "output_type": "execute_result"
    }
   ],
   "source": [
    "new_X = mapfeature(X_2[:,1],X_2[:,2])\n",
    "a = mapfeature(np.array([1]),np.array([2]))\n",
    "a.shape"
   ]
  },
  {
   "cell_type": "code",
   "execution_count": 51,
   "metadata": {
    "collapsed": false
   },
   "outputs": [
    {
     "name": "stdout",
     "output_type": "stream",
     "text": [
      "(118, 1)\n"
     ]
    }
   ],
   "source": [
    "inittheta = np.zeros((new_X.shape[1],1))\n",
    "cost(inittheta,0.,new_X,y_2)\n",
    "print y_2.shape"
   ]
  },
  {
   "cell_type": "code",
   "execution_count": 50,
   "metadata": {
    "collapsed": false
   },
   "outputs": [
    {
     "data": {
      "text/plain": [
       "(array([[   18.39025549,    29.93497243,    15.28833582,  -179.32877298,\n",
       "           -79.49435526,   -91.66959427,  -220.8510152 ,  -188.05622009,\n",
       "          -119.00530541,   -36.53299295,   617.64311473,   478.33976963,\n",
       "           768.21527346,   316.53026933,   164.38972447,   377.85360635,\n",
       "           505.42844407,   597.00610472,   350.4876255 ,   120.88437211,\n",
       "            30.98007461,  -726.33246502,  -867.17180812, -1436.43637895,\n",
       "          -996.34532457,  -976.20591011,  -362.3536984 ,  -111.22941709]]),\n",
       " 0.24836353656888127)"
      ]
     },
     "execution_count": 50,
     "metadata": {},
     "output_type": "execute_result"
    }
   ],
   "source": [
    "from scipy import optimize\n",
    "def optimizeregularcost(theta,mylambda,X,y):\n",
    "    res = optimize.minimize(cost,inittheta,args=(mylambda,X,y),method=\"BFGS\",options={\"maxiter\":500,'disp':False})\n",
    "    return np.array([res.x]), res.fun\n",
    "\n",
    "theta, mincost = optimizeregularcost(inittheta,0.,new_X,y_2)\n",
    "theta, mincost"
   ]
  },
  {
   "cell_type": "code",
   "execution_count": 75,
   "metadata": {
    "collapsed": true
   },
   "outputs": [],
   "source": [
    "def plotboudary(theta,X,y,mylambda):\n",
    "    xval = np.linspace(-1,1.5,50)\n",
    "    yval = np.linspace(-1,1.5,50)\n",
    "    zvals = np.zeros((len(xval),len(yval)))\n",
    "    for i in xrange(len(xval)):\n",
    "        for j in xrange(len(yval)):\n",
    "            maped_features = mapfeature(np.array([xval[i]]),np.array([yval[j]]))\n",
    "            zvals[i][j] = np.dot(theta,maped_features.T)\n",
    "    zvals = zvals.transpose()\n",
    "    data_contour = go.Data([\n",
    "    go.Contour(\n",
    "        x = xval,\n",
    "        y = yval,\n",
    "        z = zvals\n",
    "    )\n",
    "])\n",
    "    py.iplot(data_contour)"
   ]
  },
  {
   "cell_type": "code",
   "execution_count": 76,
   "metadata": {
    "collapsed": false
   },
   "outputs": [],
   "source": [
    "plotboudary(theta,X_2,y_2,0.)"
   ]
  },
  {
   "cell_type": "code",
   "execution_count": null,
   "metadata": {
    "collapsed": true
   },
   "outputs": [],
   "source": []
  },
  {
   "cell_type": "code",
   "execution_count": null,
   "metadata": {
    "collapsed": true
   },
   "outputs": [],
   "source": []
  },
  {
   "cell_type": "code",
   "execution_count": 53,
   "metadata": {
    "collapsed": false,
    "scrolled": true
   },
   "outputs": [],
   "source": [
    "data_contour = go.Data([\n",
    "    go.Contour(\n",
    "        z=[[10, 10.625, 12.5, 15.625, 20],\n",
    "           [5.625, 6.25, 8.125, 11.25, 15.625],\n",
    "           [2.5, 3.125, 5., 8.125, 12.5],\n",
    "           [0.625, 1.25, 3.125, 6.25, 10.625],\n",
    "           [0, 0.625, 2.5, 5.625, 10]]\n",
    "    )\n",
    "])\n",
    "#py.iplot(data_contour)"
   ]
  },
  {
   "cell_type": "code",
   "execution_count": null,
   "metadata": {
    "collapsed": true
   },
   "outputs": [],
   "source": [
    "fdadas"
   ]
  },
  {
   "cell_type": "code",
   "execution_count": null,
   "metadata": {
    "collapsed": true
   },
   "outputs": [],
   "source": []
  }
 ],
 "metadata": {
  "kernelspec": {
   "display_name": "Python 2",
   "language": "python",
   "name": "python2"
  },
  "language_info": {
   "codemirror_mode": {
    "name": "ipython",
    "version": 2
   },
   "file_extension": ".py",
   "mimetype": "text/x-python",
   "name": "python",
   "nbconvert_exporter": "python",
   "pygments_lexer": "ipython2",
   "version": "2.7.12"
  }
 },
 "nbformat": 4,
 "nbformat_minor": 2
}
