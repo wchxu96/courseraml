{
 "cells": [
  {
   "cell_type": "code",
   "execution_count": 1,
   "metadata": {
    "collapsed": false,
    "deletable": true,
    "editable": true
   },
   "outputs": [],
   "source": [
    "%matplotlib inline\n",
    "import numpy as np\n",
    "import scipy.io\n",
    "import scipy.optimize\n",
    "import pandas as pd\n",
    "import matplotlib.pyplot as plt\n",
    "import plotly.plotly as py\n",
    "import plotly.graph_objs as go "
   ]
  },
  {
   "cell_type": "code",
   "execution_count": 2,
   "metadata": {
    "collapsed": false,
    "deletable": true,
    "editable": true
   },
   "outputs": [
    {
     "data": {
      "text/plain": [
       "(21, 1)"
      ]
     },
     "execution_count": 2,
     "metadata": {},
     "output_type": "execute_result"
    }
   ],
   "source": [
    "mat = scipy.io.loadmat('./data/ex5data1.mat')\n",
    "X,y = mat['X'],mat['y']\n",
    "X_val,y_val = mat['Xval'],mat['yval']\n",
    "X_test,y_test = mat['Xtest'],mat['ytest']\n",
    "X_test.shape"
   ]
  },
  {
   "cell_type": "code",
   "execution_count": 3,
   "metadata": {
    "collapsed": false,
    "deletable": true,
    "editable": true
   },
   "outputs": [
    {
     "data": {
      "text/plain": [
       "(21, 2)"
      ]
     },
     "execution_count": 3,
     "metadata": {},
     "output_type": "execute_result"
    }
   ],
   "source": [
    "X = np.insert(X,0,1,axis=1)\n",
    "X_val = np.insert(X_val,0,1,axis=1)\n",
    "X_test = np.insert(X_test,0,1,axis=1)\n",
    "X_test.shape"
   ]
  },
  {
   "cell_type": "code",
   "execution_count": 4,
   "metadata": {
    "collapsed": false,
    "deletable": true,
    "editable": true
   },
   "outputs": [
    {
     "name": "stdout",
     "output_type": "stream",
     "text": [
      "(12, 2)\n",
      "(12, 1)\n",
      "(21, 2)\n",
      "(21, 2)\n"
     ]
    }
   ],
   "source": [
    "print X.shape\n",
    "print y.shape\n",
    "print X_val.shape\n",
    "print X_test.shape"
   ]
  },
  {
   "cell_type": "code",
   "execution_count": 5,
   "metadata": {
    "collapsed": false,
    "deletable": true,
    "editable": true
   },
   "outputs": [
    {
     "data": {
      "text/html": [
       "<iframe id=\"igraph\" scrolling=\"no\" style=\"border:none;\" seamless=\"seamless\" src=\"https://plot.ly/~OskaKamisama/248.embed\" height=\"525px\" width=\"100%\"></iframe>"
      ],
      "text/plain": [
       "<plotly.tools.PlotlyDisplay object>"
      ]
     },
     "execution_count": 5,
     "metadata": {},
     "output_type": "execute_result"
    }
   ],
   "source": [
    "scatter_1 = go.Scatter(\n",
    "    x = X[:,1],\n",
    "    y = y,\n",
    "    mode = 'markers',\n",
    ")\n",
    "\n",
    "data = [scatter_1]\n",
    "py.iplot(data)"
   ]
  },
  {
   "cell_type": "code",
   "execution_count": 6,
   "metadata": {
    "collapsed": false,
    "deletable": true,
    "editable": true
   },
   "outputs": [],
   "source": [
    "def costWithReg(theta,X,y,mylambda=0.0):\n",
    "    #print X.shape\n",
    "    m = X.shape[0]\n",
    "    n = theta.shape[0]\n",
    "    theta = theta.reshape((n,1))\n",
    "    cost = 1./(2.*m) * (np.square((np.dot(X,theta) - y)).sum()) + mylambda /(2. * m) * ((theta[1:] ** 2).sum())\n",
    "    return cost\n",
    "def cost_prime(theta,X,y,mylambda=0.0):\n",
    "    m = X.shape[0]\n",
    "    #prime = np.zeros((theta.shape[0],1))\n",
    "    #print y.shape\n",
    "    #print (X[:,0][:,np.newaxis] - y).shape\n",
    "    #print (1./m) * np.dot((X[:,0][:,np.newaxis] - y).T,X[:,0])\n",
    "    #prime[0] = (1./m) * np.dot((np.dot(X[:,0].reshape(m,1),theta[0].reshape(1,1))- y).T,X[:,0])\n",
    "    #prime[1:] =(1./m) * (np.dot(X[:,1:]).T,np.dot(X[:,1:],theta[1:]) - y)).sum(axis=1) + (float(mylambda) / m) * (theta[1:])\n",
    "    #htheta = np.dot(X[:,1:],theta[1:])\n",
    "    #term1 = np.dot(X[:,1:].T,htheta - y)\n",
    "    #print term1.shape\n",
    "    #prime[1:] = (1./m) * term1 + mylambda * 1./m * (theta[1:])\n",
    "    #return prime.flatten()\n",
    "    theta = theta.reshape((theta.shape[0],1))\n",
    "    h = np.dot(X,theta).reshape((m,1))\n",
    "    grad = (1./float(m)) * X.T.dot(h - y)\n",
    "    regterm = (float(mylambda) / m) * theta\n",
    "    regterm[0] = 0\n",
    "    return (grad + regterm).flatten()"
   ]
  },
  {
   "cell_type": "code",
   "execution_count": 7,
   "metadata": {
    "collapsed": false,
    "deletable": true,
    "editable": true
   },
   "outputs": [
    {
     "name": "stdout",
     "output_type": "stream",
     "text": [
      "303.99319222\n",
      "[ -15.30301567  598.25074417]\n"
     ]
    }
   ],
   "source": [
    "print costWithReg(np.array([1,1]),X,y,mylambda=1.)\n",
    "print cost_prime(np.array([1,1]),X,y,mylambda=1.)"
   ]
  },
  {
   "cell_type": "code",
   "execution_count": 97,
   "metadata": {
    "collapsed": true,
    "deletable": true,
    "editable": true
   },
   "outputs": [],
   "source": [
    "def gradoptimize(init_theta,X,y,mylambda):\n",
    "    res = scipy.optimize.fmin_cg(costWithReg,init_theta,cost_prime,args=(X,y,mylambda),\n",
    "                          maxiter=500,full_output=0,disp=1)\n",
    "    return res"
   ]
  },
  {
   "cell_type": "code",
   "execution_count": 9,
   "metadata": {
    "collapsed": false,
    "deletable": true,
    "editable": true
   },
   "outputs": [
    {
     "name": "stdout",
     "output_type": "stream",
     "text": [
      "Optimization terminated successfully.\n",
      "         Current function value: 22.373906\n",
      "         Iterations: 18\n",
      "         Function evaluations: 28\n",
      "         Gradient evaluations: 28\n",
      "[ 13.08790734   0.36777925]\n",
      "(2,)\n"
     ]
    }
   ],
   "source": [
    "res = gradoptimize(np.array([1,1]),X,y,0.)\n",
    "print res\n",
    "print res.shape\n",
    "#Parameters which minimize f, i.e"
   ]
  },
  {
   "cell_type": "code",
   "execution_count": 10,
   "metadata": {
    "collapsed": false,
    "deletable": true,
    "editable": true
   },
   "outputs": [
    {
     "data": {
      "text/plain": [
       "array([[ 13.08790734],\n",
       "       [  0.36777925]])"
      ]
     },
     "execution_count": 10,
     "metadata": {},
     "output_type": "execute_result"
    }
   ],
   "source": [
    "opt_theta = res.reshape((res.shape[0],1))\n",
    "opt_theta"
   ]
  },
  {
   "cell_type": "code",
   "execution_count": 11,
   "metadata": {
    "collapsed": false,
    "deletable": true,
    "editable": true
   },
   "outputs": [
    {
     "data": {
      "text/html": [
       "<iframe id=\"igraph\" scrolling=\"no\" style=\"border:none;\" seamless=\"seamless\" src=\"https://plot.ly/~OskaKamisama/250.embed\" height=\"525px\" width=\"100%\"></iframe>"
      ],
      "text/plain": [
       "<plotly.tools.PlotlyDisplay object>"
      ]
     },
     "execution_count": 11,
     "metadata": {},
     "output_type": "execute_result"
    }
   ],
   "source": [
    "scatter_1 = go.Scatter(\n",
    "    x = X[:,1],\n",
    "    y = y,\n",
    "    mode = 'markers',\n",
    ")\n",
    "scatter_2 = go.Scatter(\n",
    "    x = X[:,1],\n",
    "    y = X.dot(opt_theta),\n",
    "    mode = 'lines+markers'\n",
    ")\n",
    "data = [scatter_1,scatter_2]\n",
    "py.iplot(data)"
   ]
  },
  {
   "cell_type": "code",
   "execution_count": 30,
   "metadata": {
    "collapsed": false,
    "deletable": true,
    "editable": true
   },
   "outputs": [],
   "source": [
    "def geterr(X,y,m=2,mylambda=0.):\n",
    "    #init_theta = np.array([1,1])\n",
    "    init_theta = np.ones((m,1))\n",
    "    err_train = []\n",
    "    err_val = []\n",
    "    for i in xrange(1,13,1):\n",
    "        temp_theta = gradoptimize(init_theta,X[:i,:],y[:i],0.)\n",
    "        #temp_theta = temp_theta.reshape((temp_theta.shape[0],1))\n",
    "        err_train.append(costWithReg(temp_theta,X[:i,:],y[:i]))\n",
    "        err_val.append(costWithReg(temp_theta,X_val,y_val,mylambda=0.))\n",
    "    return err_train,err_val"
   ]
  },
  {
   "cell_type": "code",
   "execution_count": 31,
   "metadata": {
    "collapsed": false,
    "deletable": true,
    "editable": true
   },
   "outputs": [
    {
     "name": "stdout",
     "output_type": "stream",
     "text": [
      "Optimization terminated successfully.\n",
      "         Current function value: 0.000000\n",
      "         Iterations: 2\n",
      "         Function evaluations: 4\n",
      "         Gradient evaluations: 4\n",
      "Optimization terminated successfully.\n",
      "         Current function value: 0.000000\n",
      "         Iterations: 3\n",
      "         Function evaluations: 7\n",
      "         Gradient evaluations: 7\n",
      "Warning: Desired error not necessarily achieved due to precision loss.\n",
      "         Current function value: 3.286810\n",
      "         Iterations: 4\n",
      "         Function evaluations: 19\n",
      "         Gradient evaluations: 7\n",
      "Optimization terminated successfully.\n",
      "         Current function value: 2.842678\n",
      "         Iterations: 25\n",
      "         Function evaluations: 39\n",
      "         Gradient evaluations: 39\n",
      "Optimization terminated successfully.\n",
      "         Current function value: 13.154049\n",
      "         Iterations: 4\n",
      "         Function evaluations: 8\n",
      "         Gradient evaluations: 8\n",
      "Optimization terminated successfully.\n",
      "         Current function value: 19.443963\n",
      "         Iterations: 4\n",
      "         Function evaluations: 8\n",
      "         Gradient evaluations: 8\n",
      "Optimization terminated successfully.\n",
      "         Current function value: 20.098522\n",
      "         Iterations: 4\n",
      "         Function evaluations: 8\n",
      "         Gradient evaluations: 8\n",
      "Warning: Desired error not necessarily achieved due to precision loss.\n",
      "         Current function value: 18.172859\n",
      "         Iterations: 8\n",
      "         Function evaluations: 25\n",
      "         Gradient evaluations: 13\n",
      "Optimization terminated successfully.\n",
      "         Current function value: 22.609405\n",
      "         Iterations: 10\n",
      "         Function evaluations: 16\n",
      "         Gradient evaluations: 16\n",
      "Warning: Desired error not necessarily achieved due to precision loss.\n",
      "         Current function value: 132.614415\n",
      "         Iterations: 1\n",
      "         Function evaluations: 14\n",
      "         Gradient evaluations: 2\n",
      "Warning: Desired error not necessarily achieved due to precision loss.\n",
      "         Current function value: 122.581337\n",
      "         Iterations: 1\n",
      "         Function evaluations: 14\n",
      "         Gradient evaluations: 2\n",
      "Optimization terminated successfully.\n",
      "         Current function value: 22.373906\n",
      "         Iterations: 18\n",
      "         Function evaluations: 28\n",
      "         Gradient evaluations: 28\n"
     ]
    }
   ],
   "source": [
    "err = geterr(X,y)"
   ]
  },
  {
   "cell_type": "code",
   "execution_count": 32,
   "metadata": {
    "collapsed": false,
    "deletable": true,
    "editable": true
   },
   "outputs": [
    {
     "name": "stdout",
     "output_type": "stream",
     "text": [
      "([6.3108872417680944e-30, 1.8242408433235898e-29, 3.2868104358093708, 2.8426776894108907, 13.15404880911492, 19.44396251249546, 20.098521655088884, 18.172858841605517, 22.609405424955444, 132.61441460514456, 122.58133666959625, 22.373906495116021], [169.87070848926911, 110.30036610764668, 44.911533788208651, 48.368921278806695, 35.865164750311514, 33.829961597138805, 31.970985798169622, 30.861456236023795, 31.135996781188357, 153.8847674013183, 153.88596305929812, 29.43381344942501])\n"
     ]
    }
   ],
   "source": [
    "print err"
   ]
  },
  {
   "cell_type": "code",
   "execution_count": 33,
   "metadata": {
    "collapsed": false,
    "deletable": true,
    "editable": true
   },
   "outputs": [
    {
     "data": {
      "text/html": [
       "<iframe id=\"igraph\" scrolling=\"no\" style=\"border:none;\" seamless=\"seamless\" src=\"https://plot.ly/~OskaKamisama/256.embed\" height=\"525px\" width=\"100%\"></iframe>"
      ],
      "text/plain": [
       "<plotly.tools.PlotlyDisplay object>"
      ]
     },
     "execution_count": 33,
     "metadata": {},
     "output_type": "execute_result"
    }
   ],
   "source": [
    "scatter_3 = go.Scatter(\n",
    "    x = range(1,13,1),\n",
    "    y = err[0],\n",
    "    mode = 'lines+markers'\n",
    ")\n",
    "scatter_4 = go.Scatter(\n",
    "    x = range(1,13,1),\n",
    "    y = err[1],\n",
    "    mode = 'lines+markers'\n",
    ")\n",
    "data = [scatter_3,scatter_4]\n",
    "py.iplot(data)\n",
    "#这跳跃是怎么回事．？？？？"
   ]
  },
  {
   "cell_type": "markdown",
   "metadata": {
    "deletable": true,
    "editable": true
   },
   "source": [
    "### 3 Polynomial regression"
   ]
  },
  {
   "cell_type": "code",
   "execution_count": 34,
   "metadata": {
    "collapsed": true,
    "deletable": true,
    "editable": true
   },
   "outputs": [],
   "source": [
    "def polyregression(X,p):\n",
    "    new_X = X.copy()\n",
    "    for i in xrange(p):\n",
    "        dim = i + 2\n",
    "        new_X = np.insert(new_X,new_X.shape[1],np.power(X[:,1],dim),axis=1)\n",
    "    return new_X\n",
    "\n",
    "def featureNormalize(X):\n",
    "    Xnorm = X.copy()\n",
    "    X_mean = np.mean(Xnorm,axis=0)\n",
    "    #print Xnorm[:,1:].shape\n",
    "    #print X_mean[1:].shape\n",
    "    Xnorm[:,1:] = Xnorm[:,1:] - X_mean[1:]\n",
    "    X_std = np.std(Xnorm,axis=0)\n",
    "    Xnorm[:,1:] = (1.0 * Xnorm[:,1:]) / X_std[1:]\n",
    "    return Xnorm,X_mean,X_std"
   ]
  },
  {
   "cell_type": "code",
   "execution_count": 35,
   "metadata": {
    "collapsed": false,
    "deletable": true,
    "editable": true
   },
   "outputs": [
    {
     "name": "stdout",
     "output_type": "stream",
     "text": [
      "(12, 7)\n"
     ]
    }
   ],
   "source": [
    "print polyregression(X,5).shape"
   ]
  },
  {
   "cell_type": "code",
   "execution_count": 36,
   "metadata": {
    "collapsed": false,
    "deletable": true,
    "editable": true
   },
   "outputs": [
    {
     "name": "stdout",
     "output_type": "stream",
     "text": [
      "(12, 7)\n"
     ]
    }
   ],
   "source": [
    "X_norm,X_mean,X_std = featureNormalize(polyregression(X,5))\n",
    "print X_norm.shape"
   ]
  },
  {
   "cell_type": "code",
   "execution_count": 108,
   "metadata": {
    "collapsed": false,
    "deletable": true,
    "editable": true
   },
   "outputs": [
    {
     "name": "stdout",
     "output_type": "stream",
     "text": [
      "Optimization terminated successfully.\n",
      "         Current function value: 6.891076\n",
      "         Iterations: 39\n",
      "         Function evaluations: 64\n",
      "         Gradient evaluations: 64\n"
     ]
    }
   ],
   "source": [
    "#print costWithReg(np.array([1,1,1,1,1,1,1]),X_norm,y,0.)\n",
    "norm_opt_theta = gradoptimize(np.ones((7,1)),X_norm,y,1.)"
   ]
  },
  {
   "cell_type": "code",
   "execution_count": 109,
   "metadata": {
    "collapsed": false,
    "deletable": true,
    "editable": true
   },
   "outputs": [
    {
     "name": "stdout",
     "output_type": "stream",
     "text": [
      "(50, 7)\n"
     ]
    }
   ],
   "source": [
    "X_linspace = np.linspace(np.min(X[:,1],axis=0),np.max(X[:,1],axis=0),50).reshape((50,1))\n",
    "X_linspace = np.insert(X_linspace,0,1,axis=1)\n",
    "X_linspace = polyregression(X_linspace,5)\n",
    "print X_linspace.shape\n",
    "#print np.unique(X_linspace[:,0])\n",
    "X_linspace_norm = X_linspace.copy()\n",
    "X_linspace_norm[:,1:] = (X_linspace[:,1:] - X_mean[1:]) * 1. / X_std[1:] \n",
    "#y = np.dot(X_linspace,norm_opt_theta)\n",
    "#print y"
   ]
  },
  {
   "cell_type": "code",
   "execution_count": 110,
   "metadata": {
    "collapsed": false,
    "deletable": true,
    "editable": true
   },
   "outputs": [
    {
     "name": "stdout",
     "output_type": "stream",
     "text": [
      "[[  1.         -15.93675813]\n",
      " [  1.         -29.15297922]\n",
      " [  1.          36.18954863]\n",
      " [  1.          37.49218733]\n",
      " [  1.         -48.05882945]\n",
      " [  1.          -8.94145794]\n",
      " [  1.          15.30779289]\n",
      " [  1.         -34.70626581]\n",
      " [  1.           1.38915437]\n",
      " [  1.         -44.38375985]\n",
      " [  1.           7.01350208]\n",
      " [  1.          22.76274892]]\n",
      "[[  2.13431051]\n",
      " [  1.17325668]\n",
      " [ 34.35910918]\n",
      " [ 36.83795516]\n",
      " [  2.80896507]\n",
      " [  2.12107248]\n",
      " [ 14.71026831]\n",
      " [  2.61418439]\n",
      " [  3.74017167]\n",
      " [  3.73169131]\n",
      " [  7.62765885]\n",
      " [ 22.7524283 ]]\n"
     ]
    }
   ],
   "source": [
    "print X\n",
    "print y"
   ]
  },
  {
   "cell_type": "code",
   "execution_count": 111,
   "metadata": {
    "collapsed": false,
    "deletable": true,
    "editable": true,
    "scrolled": true
   },
   "outputs": [
    {
     "data": {
      "text/html": [
       "<iframe id=\"igraph\" scrolling=\"no\" style=\"border:none;\" seamless=\"seamless\" src=\"https://plot.ly/~OskaKamisama/274.embed\" height=\"525px\" width=\"100%\"></iframe>"
      ],
      "text/plain": [
       "<plotly.tools.PlotlyDisplay object>"
      ]
     },
     "execution_count": 111,
     "metadata": {},
     "output_type": "execute_result"
    }
   ],
   "source": [
    "scatter_1 = go.Scatter(\n",
    "    x = X[:,1],\n",
    "    y = y,\n",
    "    mode = 'markers',\n",
    "    name = 'scatter point'\n",
    ")\n",
    "scatter_6 = go.Scatter(\n",
    "    x = X_linspace[:,1],\n",
    "    y = np.dot(X_linspace_norm,norm_opt_theta),\n",
    "    mode = 'lines+markers',\n",
    "    line = dict(\n",
    "        color='green',\n",
    "        shape='spline'\n",
    "    ),\n",
    "    name = 'optimize 5th_poly line'\n",
    ")\n",
    "data = [scatter_1,scatter_6]\n",
    "py.iplot(data)"
   ]
  },
  {
   "cell_type": "code",
   "execution_count": 90,
   "metadata": {
    "collapsed": false
   },
   "outputs": [
    {
     "name": "stdout",
     "output_type": "stream",
     "text": [
      "(21, 7)\n",
      "(12, 7)\n"
     ]
    }
   ],
   "source": [
    "X_val_copy = X_val.copy()\n",
    "X_val_poly = polyregression(X_val_copy,5)\n",
    "X_val_norm = featureNormalize(X_val_poly)[0]\n",
    "print X_val_poly.shape\n",
    "print X_norm.shape"
   ]
  },
  {
   "cell_type": "code",
   "execution_count": 55,
   "metadata": {
    "collapsed": false,
    "deletable": true,
    "editable": true
   },
   "outputs": [],
   "source": [
    "def geterrpoly(X,y,m,X_val,y_val,mylambda=0.):\n",
    "    init_theta = np.ones((m,1))\n",
    "    err_train,err_val = [],[]\n",
    "    for i in xrange(1,13):\n",
    "        temp_theta = gradoptimize(init_theta,X[:i,:],y[:i],mylambda)\n",
    "        err_train.append(costWithReg(temp_theta,X[:i,:],y[:i],mylambda=0.))\n",
    "        err_val.append(costWithReg(temp_theta,X_val,y_val,mylambda=0.))\n",
    "    return err_train,err_val"
   ]
  },
  {
   "cell_type": "code",
   "execution_count": 91,
   "metadata": {
    "collapsed": false
   },
   "outputs": [
    {
     "name": "stdout",
     "output_type": "stream",
     "text": [
      "Optimization terminated successfully.\n",
      "         Current function value: 0.000000\n",
      "         Iterations: 1\n",
      "         Function evaluations: 3\n",
      "         Gradient evaluations: 3\n",
      "Optimization terminated successfully.\n",
      "         Current function value: 0.000000\n",
      "         Iterations: 2\n",
      "         Function evaluations: 5\n",
      "         Gradient evaluations: 5\n",
      "Optimization terminated successfully.\n",
      "         Current function value: 0.000000\n",
      "         Iterations: 8\n",
      "         Function evaluations: 17\n",
      "         Gradient evaluations: 17\n",
      "Warning: Desired error not necessarily achieved due to precision loss.\n",
      "         Current function value: 0.000015\n",
      "         Iterations: 16\n",
      "         Function evaluations: 43\n",
      "         Gradient evaluations: 31\n",
      "Optimization terminated successfully.\n",
      "         Current function value: 0.000000\n",
      "         Iterations: 14\n",
      "         Function evaluations: 37\n",
      "         Gradient evaluations: 37\n",
      "Warning: Desired error not necessarily achieved due to precision loss.\n",
      "         Current function value: 0.000003\n",
      "         Iterations: 158\n",
      "         Function evaluations: 304\n",
      "         Gradient evaluations: 292\n",
      "Warning: Maximum number of iterations has been exceeded.\n",
      "         Current function value: 0.000202\n",
      "         Iterations: 300\n",
      "         Function evaluations: 535\n",
      "         Gradient evaluations: 535\n",
      "Optimization terminated successfully.\n",
      "         Current function value: 0.075859\n",
      "         Iterations: 276\n",
      "         Function evaluations: 484\n",
      "         Gradient evaluations: 484\n",
      "Warning: Maximum number of iterations has been exceeded.\n",
      "         Current function value: 0.183762\n",
      "         Iterations: 300\n",
      "         Function evaluations: 511\n",
      "         Gradient evaluations: 511\n",
      "Optimization terminated successfully.\n",
      "         Current function value: 0.224868\n",
      "         Iterations: 226\n",
      "         Function evaluations: 414\n",
      "         Gradient evaluations: 414\n",
      "Warning: Desired error not necessarily achieved due to precision loss.\n",
      "         Current function value: 0.204682\n",
      "         Iterations: 165\n",
      "         Function evaluations: 300\n",
      "         Gradient evaluations: 288\n",
      "Warning: Maximum number of iterations has been exceeded.\n",
      "         Current function value: 0.198053\n",
      "         Iterations: 300\n",
      "         Function evaluations: 560\n",
      "         Gradient evaluations: 560\n",
      "[113.08165137605577, 112.96942314577619, 23.426363204918204, 22.722325834785007, 6.8890048581307823, 11.35260051931391, 13.107771566813948, 5.6169845168517156, 8.586239730015258, 12.657695958153743, 12.898922346455265, 18.762565388042741]\n"
     ]
    }
   ],
   "source": [
    "err_train_poly,err_val_poly = geterrpoly(X_norm,y,7,X_val_norm,y_val)\n",
    "print err_val_poly"
   ]
  },
  {
   "cell_type": "code",
   "execution_count": 92,
   "metadata": {
    "collapsed": false,
    "scrolled": true
   },
   "outputs": [
    {
     "data": {
      "text/html": [
       "<iframe id=\"igraph\" scrolling=\"no\" style=\"border:none;\" seamless=\"seamless\" src=\"https://plot.ly/~OskaKamisama/272.embed\" height=\"525px\" width=\"100%\"></iframe>"
      ],
      "text/plain": [
       "<plotly.tools.PlotlyDisplay object>"
      ]
     },
     "execution_count": 92,
     "metadata": {},
     "output_type": "execute_result"
    }
   ],
   "source": [
    "scatter_7 = go.Scatter(\n",
    "    x = range(1,13),\n",
    "    y = err_train_poly,\n",
    "    mode = 'line+markers',\n",
    "    text = '5th poly_train_error'\n",
    ")\n",
    "\n",
    "scatter_8 = go.Scatter(\n",
    "    x = range(1,13),\n",
    "    y = err_val_poly,\n",
    "    mode = 'lines+markers',\n",
    "    text = '5th poly_validation_error'\n",
    ")\n",
    "data = [scatter_7,scatter_8]\n",
    "py.iplot(data)"
   ]
  },
  {
   "cell_type": "code",
   "execution_count": 83,
   "metadata": {
    "collapsed": false
   },
   "outputs": [],
   "source": [
    "#print X_val_poly == X_val_norm\n",
    "#print init_theta"
   ]
  },
  {
   "cell_type": "markdown",
   "metadata": {},
   "source": [
    "### 4.select the best lambda from the validation set"
   ]
  },
  {
   "cell_type": "code",
   "execution_count": 98,
   "metadata": {
    "collapsed": false
   },
   "outputs": [
    {
     "name": "stdout",
     "output_type": "stream",
     "text": [
      "Optimization terminated successfully.\n",
      "         Current function value: 0.198053\n",
      "         Iterations: 307\n",
      "         Function evaluations: 572\n",
      "         Gradient evaluations: 572\n",
      "Warning: Desired error not necessarily achieved due to precision loss.\n",
      "         Current function value: 0.221817\n",
      "         Iterations: 79\n",
      "         Function evaluations: 157\n",
      "         Gradient evaluations: 145\n",
      "Optimization terminated successfully.\n",
      "         Current function value: 0.260109\n",
      "         Iterations: 159\n",
      "         Function evaluations: 296\n",
      "         Gradient evaluations: 296\n",
      "Optimization terminated successfully.\n",
      "         Current function value: 0.378278\n",
      "         Iterations: 96\n",
      "         Function evaluations: 179\n",
      "         Gradient evaluations: 179\n",
      "Optimization terminated successfully.\n",
      "         Current function value: 0.647252\n",
      "         Iterations: 108\n",
      "         Function evaluations: 195\n",
      "         Gradient evaluations: 195\n",
      "Optimization terminated successfully.\n",
      "         Current function value: 1.372851\n",
      "         Iterations: 62\n",
      "         Function evaluations: 112\n",
      "         Gradient evaluations: 112\n",
      "Optimization terminated successfully.\n",
      "         Current function value: 2.931334\n",
      "         Iterations: 54\n",
      "         Function evaluations: 91\n",
      "         Gradient evaluations: 91\n",
      "Optimization terminated successfully.\n",
      "         Current function value: 6.891076\n",
      "         Iterations: 39\n",
      "         Function evaluations: 64\n",
      "         Gradient evaluations: 64\n",
      "Warning: Desired error not necessarily achieved due to precision loss.\n",
      "         Current function value: 15.237513\n",
      "         Iterations: 19\n",
      "         Function evaluations: 45\n",
      "         Gradient evaluations: 33\n",
      "Optimization terminated successfully.\n",
      "         Current function value: 32.613222\n",
      "         Iterations: 17\n",
      "         Function evaluations: 35\n",
      "         Gradient evaluations: 35\n",
      "7\n",
      "10\n"
     ]
    }
   ],
   "source": [
    "lambdarange = [0, 0.001, 0.003, 0.01, 0.03, 0.1, 0.3, 1., 3., 10.]\n",
    "init_theta = np.ones((7,1))\n",
    "err_val = []\n",
    "for mylambda in lambdarange:\n",
    "    temp_theta = gradoptimize(init_theta,X_norm,y,mylambda=mylambda)\n",
    "    err_val.append(costWithReg(temp_theta,X_val_norm,y_val))\n",
    "print np.argmin(err_val)\n",
    "print len(err_val)"
   ]
  },
  {
   "cell_type": "code",
   "execution_count": 112,
   "metadata": {
    "collapsed": false
   },
   "outputs": [
    {
     "name": "stdout",
     "output_type": "stream",
     "text": [
      "4.57372330398\n"
     ]
    }
   ],
   "source": [
    "print err_val[7]\n",
    "#why I get a better result in lmbda == 1 than lambda == 3?\n",
    "#OK ng has a 8th poly_transfrom while I only have six"
   ]
  }
 ],
 "metadata": {
  "kernelspec": {
   "display_name": "Python 2",
   "language": "python",
   "name": "python2"
  },
  "language_info": {
   "codemirror_mode": {
    "name": "ipython",
    "version": 2
   },
   "file_extension": ".py",
   "mimetype": "text/x-python",
   "name": "python",
   "nbconvert_exporter": "python",
   "pygments_lexer": "ipython2",
   "version": "2.7.12"
  }
 },
 "nbformat": 4,
 "nbformat_minor": 2
}
